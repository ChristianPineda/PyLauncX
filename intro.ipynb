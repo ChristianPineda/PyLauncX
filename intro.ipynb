{
 "cells": [
  {
   "cell_type": "markdown",
   "metadata": {},
   "source": [
    "## Python Notebook (.ipynb) Variables"
   ]
  },
  {
   "cell_type": "code",
   "execution_count": 5,
   "metadata": {},
   "outputs": [
    {
     "name": "stdout",
     "output_type": "stream",
     "text": [
      "Hello, World!\n"
     ]
    }
   ],
   "source": [
    "msg = \"Hello, World!\"\n",
    "print (msg)"
   ]
  },
  {
   "cell_type": "code",
   "execution_count": 6,
   "metadata": {},
   "outputs": [],
   "source": [
    "title = \"Jokeis\"\n",
    "\n",
    "huevo = 3\n",
    "leche = 1.5\n",
    "mantequilla = 0.5\n",
    "harina = 3\n",
    "vainilla = 0.5"
   ]
  },
  {
   "cell_type": "code",
   "execution_count": 10,
   "metadata": {},
   "outputs": [
    {
     "name": "stdout",
     "output_type": "stream",
     "text": [
      "Jokeis\n",
      "Cantidad de huevo: 3 Cantidad de leche: 1.5 Cantidad de mantequilla: 0.5 Cantidad de harina: 3 Cantidad de vainilla: 0.5\n"
     ]
    }
   ],
   "source": [
    "print (title)\n",
    "mezcla = huevo + leche + mantequilla + harina + vainilla\n",
    "print (\"Cantidad de huevo: \" +str(huevo) + \" Cantidad de leche: \" + str(leche) + \" Cantidad de mantequilla: \" + str(mantequilla) + \" Cantidad de harina: \" + str(harina) + \" Cantidad de vainilla: \" + str(vainilla))"
   ]
  },
  {
   "cell_type": "code",
   "execution_count": 9,
   "metadata": {},
   "outputs": [
    {
     "name": "stdout",
     "output_type": "stream",
     "text": [
      "La cantidad de huevo es correcta\n"
     ]
    }
   ],
   "source": [
    "if(huevo == 3):\n",
    "    print (\"La cantidad de huevo es correcta\")\n",
    "elif (leche == 1.5):\n",
    "    print (\"La cantidad de leche es correcta\")\n",
    "elif (mantequilla == 0.5):\n",
    "    print (\"La cantidad de mantequilla es correcta\")\n",
    "else:\n",
    "    print (\"Revisa tus ingredientes\")"
   ]
  },
  {
   "cell_type": "code",
   "execution_count": 12,
   "metadata": {},
   "outputs": [
    {
     "name": "stdout",
     "output_type": "stream",
     "text": [
      "La mezcla alcanzó para 2.125 porciones por persona\n"
     ]
    }
   ],
   "source": [
    "porcion = mezcla/4\n",
    "print(\"La mezcla alcanzó para \" + str(porcion) + \" porciones por persona\")"
   ]
  }
 ],
 "metadata": {
  "interpreter": {
   "hash": "b2e73303c7964b449604716ff7e7eb2786bcd7baaa7a77de01729f6940e7130c"
  },
  "kernelspec": {
   "display_name": "Python 3.10.2 64-bit",
   "language": "python",
   "name": "python3"
  },
  "language_info": {
   "codemirror_mode": {
    "name": "ipython",
    "version": 3
   },
   "file_extension": ".py",
   "mimetype": "text/x-python",
   "name": "python",
   "nbconvert_exporter": "python",
   "pygments_lexer": "ipython3",
   "version": "3.10.2"
  },
  "orig_nbformat": 4
 },
 "nbformat": 4,
 "nbformat_minor": 2
}
